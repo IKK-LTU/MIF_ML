{
 "cells": [
  {
   "cell_type": "code",
   "execution_count": 1,
   "metadata": {},
   "outputs": [],
   "source": [
    "#Ignas Kunickas MMT 4k.\n"
   ]
  },
  {
   "cell_type": "code",
   "execution_count": 20,
   "metadata": {},
   "outputs": [],
   "source": [
    "#DNN"
   ]
  },
  {
   "cell_type": "code",
   "execution_count": 2,
   "metadata": {},
   "outputs": [],
   "source": [
    "import os\n",
    "import time\n",
    "from datetime import datetime\n",
    "import numpy as np\n",
    "import matplotlib.pyplot as plt\n",
    "import pandas as pd\n",
    "from tensorflow.keras.callbacks import TensorBoard"
   ]
  },
  {
   "cell_type": "code",
   "execution_count": 35,
   "metadata": {},
   "outputs": [
    {
     "name": "stdout",
     "output_type": "stream",
     "text": [
      "The tensorboard extension is already loaded. To reload it, use:\n",
      "  %reload_ext tensorboard\n"
     ]
    }
   ],
   "source": []
  },
  {
   "cell_type": "code",
   "execution_count": 3,
   "metadata": {},
   "outputs": [],
   "source": [
    "import tensorflow.keras as keras\n",
    "from tensorflow.keras.layers import Dense, Input, Flatten, Conv2D, BatchNormalization, Activation, Dropout, MaxPooling2D\n",
    "from tensorflow.keras.models import Sequential\n",
    "from tensorflow.keras.optimizers import Adam, SGD"
   ]
  },
  {
   "cell_type": "code",
   "execution_count": 4,
   "metadata": {},
   "outputs": [
    {
     "name": "stdout",
     "output_type": "stream",
     "text": [
      "/notebooks\n"
     ]
    },
    {
     "data": {
      "text/plain": [
       "['.ipynb_checkpoints',\n",
       " 'Untitled Folder',\n",
       " 'logs',\n",
       " 'Flatland_IK.html',\n",
       " 'Flatland_IK.ipynb',\n",
       " 'Untitled.html',\n",
       " 'Untitled.ipynb',\n",
       " 'flatland_train.data',\n",
       " 'model.CNN.h5',\n",
       " 'storage',\n",
       " 'datasets',\n",
       " 'core']"
      ]
     },
     "execution_count": 4,
     "metadata": {},
     "output_type": "execute_result"
    }
   ],
   "source": [
    "cwd = os.getcwd() #parodo kas content folderyje\n",
    "print(cwd)\n",
    "os.listdir(os.getcwd())"
   ]
  },
  {
   "cell_type": "code",
   "execution_count": 5,
   "metadata": {},
   "outputs": [],
   "source": [
    "import gzip\n",
    "import pickle\n",
    "\n",
    "X,y = pickle.load(gzip.open('flatland_train.data','rb'))\n",
    "y[y != 0] -= 2\n",
    "X = X.reshape(X.shape[0], 50, 50, 1) / 255.0\n",
    "#X = X / 255 #su DNN\n"
   ]
  },
  {
   "cell_type": "code",
   "execution_count": 16,
   "metadata": {},
   "outputs": [],
   "source": [
    "\n",
    "#plt.figure(figsize=(10, 3))\n",
    "#for i in range(10):\n",
    "#    plt.subplot(3, 10, i + 1)\n",
    "#    plt.imshow(X[i], cmap='gray')\n",
    "#    plt.axis('off')\n",
    "#plt.show()"
   ]
  },
  {
   "cell_type": "code",
   "execution_count": null,
   "metadata": {},
   "outputs": [],
   "source": []
  },
  {
   "cell_type": "code",
   "execution_count": 12,
   "metadata": {},
   "outputs": [
    {
     "name": "stdout",
     "output_type": "stream",
     "text": [
      "Model: \"functional_3\"\n",
      "_________________________________________________________________\n",
      "Layer (type)                 Output Shape              Param #   \n",
      "=================================================================\n",
      "input_2 (InputLayer)         [(None, 50, 50, 1)]       0         \n",
      "_________________________________________________________________\n",
      "conv2d_2 (Conv2D)            (None, 48, 48, 32)        320       \n",
      "_________________________________________________________________\n",
      "batch_normalization_3 (Batch (None, 48, 48, 32)        128       \n",
      "_________________________________________________________________\n",
      "conv2d_3 (Conv2D)            (None, 46, 46, 32)        9248      \n",
      "_________________________________________________________________\n",
      "batch_normalization_4 (Batch (None, 46, 46, 32)        128       \n",
      "_________________________________________________________________\n",
      "max_pooling2d_1 (MaxPooling2 (None, 23, 23, 32)        0         \n",
      "_________________________________________________________________\n",
      "batch_normalization_5 (Batch (None, 23, 23, 32)        128       \n",
      "_________________________________________________________________\n",
      "flatten_1 (Flatten)          (None, 16928)             0         \n",
      "_________________________________________________________________\n",
      "dense_3 (Dense)              (None, 64)                1083456   \n",
      "_________________________________________________________________\n",
      "dense_4 (Dense)              (None, 10)                650       \n",
      "_________________________________________________________________\n",
      "dense_5 (Dense)              (None, 5)                 55        \n",
      "=================================================================\n",
      "Total params: 1,094,113\n",
      "Trainable params: 1,093,921\n",
      "Non-trainable params: 192\n",
      "_________________________________________________________________\n"
     ]
    }
   ],
   "source": [
    "#PVZ modelio, nukopinu nuo destytojo\n",
    "NAME = \"DNN\".format(int(time.time()))\n",
    "#print(NAME) \n",
    "image = keras.layers.Input(shape=[50,50,1])                   # model = keras.models.Sequential()\n",
    "#Sluoksniai\n",
    "out = keras.layers.Conv2D(32, kernel_size=(3, 3), activation='relu')(image) # ismoko svarbias formas ir mazina paveiksliukus kaip pav \n",
    "out= keras.layers.BatchNormalization(axis=-1)(out) # sunormalizuoja duomenis t.y.: suskaiciuoja vidurki, atima is jo ir padalina is standartinio nuokrypio\n",
    "#out= keras.layers.Activation(\"relu\")(out)\n",
    "out = keras.layers.Conv2D(32, kernel_size=(3, 3), activation='relu')(out)\n",
    "out= keras.layers.BatchNormalization(axis=-1)(out) # normalizuoja duomenis\n",
    "#out= keras.layers.Activation(\"relu\")(out)\n",
    "#ismokes svarbias formas naudojam kaip feacerius treniruodamas modeli\n",
    "out = keras.layers.MaxPooling2D(pool_size=(2, 2))(out) #mazina sluoksnius, lieka maziau info ir greiciau treniruojasi subsamplingas\n",
    "\n",
    "out = keras.layers.Flatten()(out)                         # vietoj model.add(keras.layers.Flatten(input_shape=[50, 50])) \n",
    "out = keras.layers.Dense(64, activation=\"relu\")(out)        # model.add(keras.layers.Dense(64, activation=\"relu\"))  # neuro tinklas dazniausaiia siaureja ( mazinam neuronu kieki)\n",
    "#out = keras.layers.Dense(64, activation=\"relu\")(out)        # model.add(keras.layers.Dense(64, activation=\"relu\"))\n",
    "out = keras.layers.Dense(10, activation=\"relu\")(out) \n",
    "#out = keras.layers.Dropout(0.5)(out) # ismetas kaikuriuos neuronus kurie per daug ismoke ta pacia info\n",
    "out = keras.layers.Dense(5, activation=\"softmax\")(out)      # vietoj model.add(keras.layers.Dense(5, activation=\"softmax\")) #cia 5, nes turim 5 figuros\n",
    "\n",
    "model = keras.models.Model(inputs=[image], outputs=[out])\n",
    "model.compile(loss=\"sparse_categorical_crossentropy\",\n",
    "              optimizer=\"Adam\", # keras.optimizers.Adam(lr=3e-4) gaunu -8%\n",
    "              metrics=[\"accuracy\"])\n",
    "model.summary()\n",
    "\n"
   ]
  },
  {
   "cell_type": "code",
   "execution_count": 82,
   "metadata": {},
   "outputs": [],
   "source": [
    "#Adam?"
   ]
  },
  {
   "cell_type": "code",
   "execution_count": 20,
   "metadata": {},
   "outputs": [],
   "source": [
    "#model.fit?\n"
   ]
  },
  {
   "cell_type": "code",
   "execution_count": 21,
   "metadata": {},
   "outputs": [
    {
     "name": "stdout",
     "output_type": "stream",
     "text": [
      "Epoch 1/20\n",
      "125/125 [==============================] - 48s 386ms/step - loss: 0.0132 - accuracy: 0.9954 - val_loss: 0.0612 - val_accuracy: 0.9780\n",
      "Epoch 2/20\n",
      "125/125 [==============================] - 49s 390ms/step - loss: 0.0023 - accuracy: 0.9998 - val_loss: 0.0421 - val_accuracy: 0.9860\n",
      "Epoch 3/20\n",
      "125/125 [==============================] - 49s 396ms/step - loss: 0.0014 - accuracy: 1.0000 - val_loss: 0.0406 - val_accuracy: 0.9855\n",
      "Epoch 4/20\n",
      "125/125 [==============================] - 50s 399ms/step - loss: 7.2843e-04 - accuracy: 1.0000 - val_loss: 0.0432 - val_accuracy: 0.9855\n",
      "Epoch 5/20\n",
      "125/125 [==============================] - 50s 399ms/step - loss: 7.2215e-04 - accuracy: 1.0000 - val_loss: 0.0404 - val_accuracy: 0.9850\n",
      "Epoch 6/20\n",
      "125/125 [==============================] - 48s 387ms/step - loss: 5.3893e-04 - accuracy: 1.0000 - val_loss: 0.0393 - val_accuracy: 0.9865\n",
      "Epoch 7/20\n",
      "125/125 [==============================] - 48s 388ms/step - loss: 4.4502e-04 - accuracy: 1.0000 - val_loss: 0.0378 - val_accuracy: 0.9865\n",
      "Epoch 8/20\n",
      "125/125 [==============================] - 49s 390ms/step - loss: 4.6108e-04 - accuracy: 1.0000 - val_loss: 0.0383 - val_accuracy: 0.9865\n",
      "Epoch 9/20\n",
      "125/125 [==============================] - 49s 391ms/step - loss: 3.7445e-04 - accuracy: 1.0000 - val_loss: 0.0389 - val_accuracy: 0.9870\n",
      "Epoch 10/20\n",
      "125/125 [==============================] - 50s 398ms/step - loss: 3.3393e-04 - accuracy: 1.0000 - val_loss: 0.0381 - val_accuracy: 0.9865\n",
      "Epoch 11/20\n",
      "125/125 [==============================] - 50s 401ms/step - loss: 3.3990e-04 - accuracy: 1.0000 - val_loss: 0.0381 - val_accuracy: 0.9870\n",
      "Epoch 12/20\n",
      "125/125 [==============================] - 50s 397ms/step - loss: 2.4672e-04 - accuracy: 1.0000 - val_loss: 0.0393 - val_accuracy: 0.9865\n",
      "Epoch 13/20\n",
      "125/125 [==============================] - 50s 396ms/step - loss: 2.9327e-04 - accuracy: 1.0000 - val_loss: 0.0364 - val_accuracy: 0.9875\n",
      "Epoch 14/20\n",
      "125/125 [==============================] - 49s 393ms/step - loss: 2.1706e-04 - accuracy: 1.0000 - val_loss: 0.0365 - val_accuracy: 0.9875\n",
      "Epoch 15/20\n",
      "125/125 [==============================] - 49s 391ms/step - loss: 1.7170e-04 - accuracy: 1.0000 - val_loss: 0.0362 - val_accuracy: 0.9880\n",
      "Epoch 16/20\n",
      "125/125 [==============================] - 50s 402ms/step - loss: 1.9929e-04 - accuracy: 1.0000 - val_loss: 0.0365 - val_accuracy: 0.9875\n",
      "Epoch 17/20\n",
      "125/125 [==============================] - 49s 392ms/step - loss: 3.1651e-04 - accuracy: 1.0000 - val_loss: 0.0392 - val_accuracy: 0.9860\n",
      "Epoch 18/20\n",
      "125/125 [==============================] - 49s 393ms/step - loss: 1.6145e-04 - accuracy: 1.0000 - val_loss: 0.0375 - val_accuracy: 0.9860\n",
      "Epoch 19/20\n",
      "125/125 [==============================] - 49s 394ms/step - loss: 1.7933e-04 - accuracy: 1.0000 - val_loss: 0.0424 - val_accuracy: 0.9845\n",
      "Epoch 20/20\n",
      "125/125 [==============================] - 48s 383ms/step - loss: 1.5961e-04 - accuracy: 1.0000 - val_loss: 0.0375 - val_accuracy: 0.9880\n"
     ]
    }
   ],
   "source": [
    "tensorboard = TensorBoard(log_dir=\"logs/{}\".format(NAME))\n",
    "loss = model.fit(X, y, epochs=20, validation_split=0.2, callbacks=tensorboard, batch_size=64)  #treniruojam \n",
    "# default bat=32, bet nustaciau 64 ,kad jam isvestine skaiciuot per didesni keiki paveiksliuku"
   ]
  },
  {
   "cell_type": "code",
   "execution_count": null,
   "metadata": {},
   "outputs": [],
   "source": []
  },
  {
   "cell_type": "code",
   "execution_count": 12,
   "metadata": {},
   "outputs": [],
   "source": [
    "#%tensorboard --logdir logs/scalars"
   ]
  },
  {
   "cell_type": "code",
   "execution_count": 22,
   "metadata": {},
   "outputs": [
    {
     "data": {
      "text/plain": [
       "<matplotlib.axes._subplots.AxesSubplot at 0x7f6240467a90>"
      ]
     },
     "execution_count": 22,
     "metadata": {},
     "output_type": "execute_result"
    },
    {
     "data": {
      "image/png": "[encoded data removed]",
      "text/plain": [
       "<Figure size 432x288 with 1 Axes>"
      ]
     },
     "metadata": {
      "needs_background": "light"
     },
     "output_type": "display_data"
    }
   ],
   "source": [
    "pd.DataFrame(loss.history).plot()"
   ]
  },
  {
   "cell_type": "code",
   "execution_count": null,
   "metadata": {},
   "outputs": [],
   "source": []
  },
  {
   "cell_type": "code",
   "execution_count": 25,
   "metadata": {},
   "outputs": [],
   "source": [
    "model.save('model.CNN.h5') "
   ]
  },
  {
   "cell_type": "code",
   "execution_count": 23,
   "metadata": {},
   "outputs": [
    {
     "data": {
      "text/plain": [
       "<matplotlib.axes._subplots.AxesSubplot at 0x7f6240280ba8>"
      ]
     },
     "execution_count": 23,
     "metadata": {},
     "output_type": "execute_result"
    },
    {
     "data": {
      "image/png": "[encoded data removed]",
      "text/plain": [
       "<Figure size 432x288 with 1 Axes>"
      ]
     },
     "metadata": {
      "needs_background": "light"
     },
     "output_type": "display_data"
    },
    {
     "data": {
      "image/png": "[encoded data removed]",
      "text/plain": [
       "<Figure size 432x288 with 1 Axes>"
      ]
     },
     "metadata": {
      "needs_background": "light"
     },
     "output_type": "display_data"
    }
   ],
   "source": [
    "pd.DataFrame(loss.history)[['accuracy', 'val_accuracy']].plot()\n",
    " # nestabilumas loss kreiveje kaltinit arba learning rate arba pati data seta\n",
    "                            \n",
    "# imant leanring_rate 0.02 matosi bangavima\n",
    "pd.DataFrame(loss.history)[['loss', 'val_loss']].plot() # loss isryskina paklaidas kurios yra treniruojamos"
   ]
  },
  {
   "cell_type": "code",
   "execution_count": 24,
   "metadata": {},
   "outputs": [
    {
     "name": "stdout",
     "output_type": "stream",
     "text": [
      "Accuracy on test set - 99.76%\n"
     ]
    }
   ],
   "source": [
    "#from google.colab import files\n",
    "#files.download('model.h5') \n",
    "pred = model.predict(X).argmax(axis=1)\n",
    "print('Accuracy on test set - {0:.02%}'.format((pred == y).mean()))"
   ]
  },
  {
   "cell_type": "code",
   "execution_count": 42,
   "metadata": {},
   "outputs": [
    {
     "ename": "AttributeError",
     "evalue": "'tensorflow.python.framework.ops.EagerTensor' object has no attribute 'batch'",
     "output_type": "error",
     "traceback": [
      "\u001b[0;31m---------------------------------------------------------------------------\u001b[0m",
      "\u001b[0;31mAttributeError\u001b[0m                            Traceback (most recent call last)",
      "\u001b[0;32m<ipython-input-42-11b948ecf4a4>\u001b[0m in \u001b[0;36m<module>\u001b[0;34m\u001b[0m\n\u001b[1;32m     10\u001b[0m \u001b[0;34m\u001b[0m\u001b[0m\n\u001b[1;32m     11\u001b[0m \u001b[0mmodel\u001b[0m \u001b[0;34m=\u001b[0m \u001b[0mkeras\u001b[0m\u001b[0;34m.\u001b[0m\u001b[0mmodels\u001b[0m\u001b[0;34m.\u001b[0m\u001b[0mload_model\u001b[0m\u001b[0;34m(\u001b[0m\u001b[0;34m'model.CNN.h5'\u001b[0m\u001b[0;34m)\u001b[0m\u001b[0;34m\u001b[0m\u001b[0;34m\u001b[0m\u001b[0m\n\u001b[0;32m---> 12\u001b[0;31m \u001b[0mevaluate\u001b[0m\u001b[0;34m(\u001b[0m\u001b[0;34m'flatland_train.data'\u001b[0m\u001b[0;34m,\u001b[0m \u001b[0mmodel\u001b[0m\u001b[0;34m)\u001b[0m\u001b[0;34m\u001b[0m\u001b[0;34m\u001b[0m\u001b[0m\n\u001b[0m",
      "\u001b[0;32m<ipython-input-42-11b948ecf4a4>\u001b[0m in \u001b[0;36mevaluate\u001b[0;34m(path, model)\u001b[0m\n\u001b[1;32m      6\u001b[0m     \u001b[0my\u001b[0m\u001b[0;34m[\u001b[0m\u001b[0my\u001b[0m \u001b[0;34m!=\u001b[0m \u001b[0;36m0\u001b[0m\u001b[0;34m]\u001b[0m \u001b[0;34m-=\u001b[0m \u001b[0;36m2\u001b[0m\u001b[0;34m\u001b[0m\u001b[0;34m\u001b[0m\u001b[0m\n\u001b[1;32m      7\u001b[0m     \u001b[0mX\u001b[0m \u001b[0;34m=\u001b[0m \u001b[0mX\u001b[0m \u001b[0;34m/\u001b[0m \u001b[0;36m255.\u001b[0m\u001b[0;34m\u001b[0m\u001b[0;34m\u001b[0m\u001b[0m\n\u001b[0;32m----> 8\u001b[0;31m     \u001b[0macc\u001b[0m \u001b[0;34m=\u001b[0m \u001b[0mnp\u001b[0m\u001b[0;34m.\u001b[0m\u001b[0mmean\u001b[0m\u001b[0;34m(\u001b[0m\u001b[0mmodel\u001b[0m\u001b[0;34m(\u001b[0m\u001b[0mX\u001b[0m\u001b[0;34m)\u001b[0m\u001b[0;34m.\u001b[0m\u001b[0mbatch\u001b[0m\u001b[0;34m(\u001b[0m\u001b[0;36m32\u001b[0m\u001b[0;34m)\u001b[0m\u001b[0;34m.\u001b[0m\u001b[0mnumpy\u001b[0m\u001b[0;34m(\u001b[0m\u001b[0;34m)\u001b[0m\u001b[0;34m.\u001b[0m\u001b[0margmax\u001b[0m\u001b[0;34m(\u001b[0m\u001b[0maxis\u001b[0m\u001b[0;34m=\u001b[0m\u001b[0;36m1\u001b[0m\u001b[0;34m)\u001b[0m \u001b[0;34m==\u001b[0m \u001b[0my\u001b[0m\u001b[0;34m)\u001b[0m\u001b[0;34m\u001b[0m\u001b[0;34m\u001b[0m\u001b[0m\n\u001b[0m\u001b[1;32m      9\u001b[0m     \u001b[0;32mreturn\u001b[0m \u001b[0macc\u001b[0m\u001b[0;34m\u001b[0m\u001b[0;34m\u001b[0m\u001b[0m\n\u001b[1;32m     10\u001b[0m \u001b[0;34m\u001b[0m\u001b[0m\n",
      "\u001b[0;31mAttributeError\u001b[0m: 'tensorflow.python.framework.ops.EagerTensor' object has no attribute 'batch'"
     ]
    }
   ],
   "source": [
    "import gzip\n",
    "import pickle\n",
    "\n",
    "def evaluate(path, model):\n",
    "    X, y = pickle.load(gzip.open(path, 'rb'))\n",
    "    y[y != 0] -= 2\n",
    "    X = X / 255.\n",
    "    acc = np.mean(model(X).batch(32).numpy().argmax(axis=1) == y)\n",
    "    return acc\n",
    "\n",
    "model = keras.models.load_model('model.CNN.h5')\n",
    "evaluate('flatland_train.data', model)"
   ]
  },
  {
   "cell_type": "code",
   "execution_count": 56,
   "metadata": {},
   "outputs": [],
   "source": [
    "#Adam?"
   ]
  },
  {
   "cell_type": "code",
   "execution_count": null,
   "metadata": {},
   "outputs": [],
   "source": []
  }
 ],
 "metadata": {
  "kernelspec": {
   "display_name": "Python 3",
   "language": "python",
   "name": "python3"
  },
  "language_info": {
   "codemirror_mode": {
    "name": "ipython",
    "version": 3
   },
   "file_extension": ".py",
   "mimetype": "text/x-python",
   "name": "python",
   "nbconvert_exporter": "python",
   "pygments_lexer": "ipython3",
   "version": "3.6.8"
  }
 },
 "nbformat": 4,
 "nbformat_minor": 4
}
