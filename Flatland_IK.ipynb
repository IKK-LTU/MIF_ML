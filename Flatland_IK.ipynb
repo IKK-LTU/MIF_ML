{
 "cells": [
  {
   "cell_type": "code",
   "execution_count": 1,
   "metadata": {},
   "outputs": [],
   "source": [
    "#Ignas Kunickas MMT 4k.\n"
   ]
  },
  {
   "cell_type": "code",
   "execution_count": 20,
   "metadata": {},
   "outputs": [],
   "source": [
    "#DNN"
   ]
  },
  {
   "cell_type": "code",
   "execution_count": 3,
   "metadata": {},
   "outputs": [],
   "source": [
    "import os\n",
    "import time\n",
    "from datetime import datetime\n",
    "import numpy as np\n",
    "import pandas as pd\n",
    "from tensorflow.keras.callbacks import TensorBoard"
   ]
  },
  {
   "cell_type": "code",
   "execution_count": 3,
   "metadata": {},
   "outputs": [],
   "source": [
    "# %load_ext tensorboard"
   ]
  },
  {
   "cell_type": "code",
   "execution_count": 4,
   "metadata": {},
   "outputs": [],
   "source": [
    "import tensorflow.keras as keras\n",
    "from tensorflow.keras.layers import Dense, Input, Flatten, Conv2D, BatchNormalization, Activation, Dropout, MaxPooling2D\n",
    "from tensorflow.keras.models import Sequential\n",
    "from tensorflow.keras.optimizers import Adam, SGD"
   ]
  },
  {
   "cell_type": "code",
   "execution_count": 5,
   "metadata": {},
   "outputs": [
    {
     "name": "stdout",
     "output_type": "stream",
     "text": [
      "/notebooks\n"
     ]
    },
    {
     "data": {
      "text/plain": [
       "['storage',\n",
       " 'datasets',\n",
       " 'Untitled.ipynb',\n",
       " '.ipynb_checkpoints',\n",
       " 'Untitled Folder',\n",
       " 'Flatland_IK.ipynb',\n",
       " 'flatland_train.data',\n",
       " 'model.CNN.h5',\n",
       " 'logs',\n",
       " 'core']"
      ]
     },
     "execution_count": 5,
     "metadata": {},
     "output_type": "execute_result"
    }
   ],
   "source": [
    "cwd = os.getcwd() #parodo kas content folderyje\n",
    "print(cwd)\n",
    "os.listdir(os.getcwd())"
   ]
  },
  {
   "cell_type": "code",
   "execution_count": 6,
   "metadata": {},
   "outputs": [],
   "source": [
    "import gzip\n",
    "import pickle\n",
    "\n",
    "X,y = pickle.load(gzip.open('flatland_train.data','rb'))\n",
    "y[y != 0] -= 2\n",
    "X = X.reshape(X.shape[0], 50, 50, 1) / 255.0\n",
    "#X = X / 255 #su DNN\n"
   ]
  },
  {
   "cell_type": "code",
   "execution_count": 7,
   "metadata": {},
   "outputs": [
    {
     "name": "stdout",
     "output_type": "stream",
     "text": [
      "Model: \"sequential\"\n",
      "_________________________________________________________________\n",
      "Layer (type)                 Output Shape              Param #   \n",
      "=================================================================\n",
      "conv2d (Conv2D)              (None, 48, 48, 32)        320       \n",
      "_________________________________________________________________\n",
      "conv2d_1 (Conv2D)            (None, 46, 46, 32)        9248      \n",
      "_________________________________________________________________\n",
      "flatten (Flatten)            (None, 67712)             0         \n",
      "_________________________________________________________________\n",
      "dense (Dense)                (None, 32)                2166816   \n",
      "_________________________________________________________________\n",
      "dense_1 (Dense)              (None, 5)                 165       \n",
      "=================================================================\n",
      "Total params: 2,176,549\n",
      "Trainable params: 2,176,549\n",
      "Non-trainable params: 0\n",
      "_________________________________________________________________\n"
     ]
    }
   ],
   "source": [
    "#PVZ modelio, nukopinu nuo destytojo\n",
    "NAME = \"DNN\".format(int(time.time()))\n",
    "#print(NAME)\n",
    "model = keras.models.Sequential()\n",
    "\n",
    "model.add(keras.layers.Conv2D(32, kernel_size=(3, 3), activation='relu', input_shape=[50, 50, 1]))  #cia yra is CNN paskaitos, atkreipk demesi, vietoj 28 yra 50\n",
    "model.add(keras.layers.Conv2D(32, kernel_size=(3, 3), activation='relu'))                           # nes paveiksliuko dydis 50x50 \n",
    "model.add(Flatten()) \n",
    "\n",
    "model.add(keras.layers.Dense(32, activation=\"relu\"))\n",
    "model.add(keras.layers.Dense(5, activation=\"softmax\")) #cia 5, nes turim 5 figuros\n",
    "\n",
    "model.compile(loss=\"sparse_categorical_crossentropy\",\n",
    "              optimizer=\"adam\",\n",
    "              metrics=[\"accuracy\"])\n",
    "model.summary()\n",
    "\n"
   ]
  },
  {
   "cell_type": "code",
   "execution_count": null,
   "metadata": {},
   "outputs": [],
   "source": [
    "\n"
   ]
  },
  {
   "cell_type": "code",
   "execution_count": 8,
   "metadata": {},
   "outputs": [
    {
     "name": "stdout",
     "output_type": "stream",
     "text": [
      "Epoch 1/10\n",
      "  1/282 [..............................] - ETA: 0s - loss: 1.6163 - accuracy: 0.0938WARNING:tensorflow:From /usr/local/lib/python3.6/dist-packages/tensorflow/python/ops/summary_ops_v2.py:1277: stop (from tensorflow.python.eager.profiler) is deprecated and will be removed after 2020-07-01.\n",
      "Instructions for updating:\n",
      "use `tf.profiler.experimental.stop` instead.\n",
      "282/282 [==============================] - 15s 54ms/step - loss: 1.2574 - accuracy: 0.4480 - val_loss: 1.0465 - val_accuracy: 0.5540\n",
      "Epoch 2/10\n",
      "282/282 [==============================] - 15s 53ms/step - loss: 0.6788 - accuracy: 0.7110 - val_loss: 0.6452 - val_accuracy: 0.7200\n",
      "Epoch 3/10\n",
      "282/282 [==============================] - 15s 53ms/step - loss: 0.4190 - accuracy: 0.8319 - val_loss: 0.5739 - val_accuracy: 0.7500\n",
      "Epoch 4/10\n",
      "282/282 [==============================] - 15s 54ms/step - loss: 0.3013 - accuracy: 0.8793 - val_loss: 0.4893 - val_accuracy: 0.7850\n",
      "Epoch 5/10\n",
      "282/282 [==============================] - 15s 53ms/step - loss: 0.2058 - accuracy: 0.9238 - val_loss: 0.5420 - val_accuracy: 0.7820\n",
      "Epoch 6/10\n",
      "282/282 [==============================] - 15s 53ms/step - loss: 0.1464 - accuracy: 0.9448 - val_loss: 0.5409 - val_accuracy: 0.7950\n",
      "Epoch 7/10\n",
      "282/282 [==============================] - 15s 53ms/step - loss: 0.1033 - accuracy: 0.9649 - val_loss: 0.5454 - val_accuracy: 0.8050\n",
      "Epoch 8/10\n",
      "282/282 [==============================] - 15s 54ms/step - loss: 0.0689 - accuracy: 0.9770 - val_loss: 0.5791 - val_accuracy: 0.8220\n",
      "Epoch 9/10\n",
      "282/282 [==============================] - 15s 53ms/step - loss: 0.0429 - accuracy: 0.9874 - val_loss: 0.6520 - val_accuracy: 0.8240\n",
      "Epoch 10/10\n",
      "282/282 [==============================] - 15s 54ms/step - loss: 0.0331 - accuracy: 0.9910 - val_loss: 0.6702 - val_accuracy: 0.8240\n"
     ]
    }
   ],
   "source": [
    "tensorboard = TensorBoard(log_dir=\"logs/{}\".format(NAME))\n",
    "loss = model.fit(X, y, epochs=10, validation_split=0.1, callbacks=tensorboard)  #treniruojam"
   ]
  },
  {
   "cell_type": "code",
   "execution_count": 12,
   "metadata": {},
   "outputs": [],
   "source": [
    "model.save('model.CNN.h5') "
   ]
  },
  {
   "cell_type": "code",
   "execution_count": 10,
   "metadata": {},
   "outputs": [
    {
     "data": {
      "text/plain": [
       "<matplotlib.axes._subplots.AxesSubplot at 0x7f5500131240>"
      ]
     },
     "execution_count": 10,
     "metadata": {},
     "output_type": "execute_result"
    },
    {
     "data": {
      "image/png": "[encoded data removed]",
      "text/plain": [
       "<Figure size 432x288 with 1 Axes>"
      ]
     },
     "metadata": {
      "needs_background": "light"
     },
     "output_type": "display_data"
    },
    {
     "data": {
      "image/png": "[encoded data removed]",
      "text/plain": [
       "<Figure size 432x288 with 1 Axes>"
      ]
     },
     "metadata": {
      "needs_background": "light"
     },
     "output_type": "display_data"
    }
   ],
   "source": [
    "pd.DataFrame(loss.history)[['accuracy', 'val_accuracy']].plot()\n",
    " # nestabilumas loss kreiveje kaltinit arba learning rate arba pati data seta\n",
    "                            \n",
    "# imant leanring_rate 0.02 matosi bangavima\n",
    "pd.DataFrame(loss.history)[['loss', 'val_loss']].plot() # loss isryskina paklaidas kurios yra treniruojamos"
   ]
  },
  {
   "cell_type": "code",
   "execution_count": 11,
   "metadata": {},
   "outputs": [
    {
     "name": "stdout",
     "output_type": "stream",
     "text": [
      "Accuracy on test set - 97.41%\n"
     ]
    }
   ],
   "source": [
    "#from google.colab import files\n",
    "#files.download('model.h5') \n",
    "pred = model.predict(X).argmax(axis=1)\n",
    "print('Accuracy on test set - {0:.02%}'.format((pred == y).mean()))"
   ]
  },
  {
   "cell_type": "code",
   "execution_count": null,
   "metadata": {},
   "outputs": [],
   "source": [
    "import gzip\n",
    "import pickle\n",
    "\n",
    "def evaluate(path, model):\n",
    "    X, y = pickle.load(gzip.open(path, 'rb'))\n",
    "    y[y != 0] -= 2\n",
    "    X = X / 255.\n",
    "    acc = np.mean(model(X).numpy().argmax(axis=1) == y)\n",
    "    return acc\n",
    "\n",
    "model = keras.models.load_model('model.CNN.h5')\n",
    "evaluate('flatland_train.data', model)"
   ]
  },
  {
   "cell_type": "code",
   "execution_count": null,
   "metadata": {},
   "outputs": [],
   "source": [
    "#Adam?"
   ]
  },
  {
   "cell_type": "code",
   "execution_count": null,
   "metadata": {},
   "outputs": [],
   "source": []
  }
 ],
 "metadata": {
  "kernelspec": {
   "display_name": "Python 3",
   "language": "python",
   "name": "python3"
  },
  "language_info": {
   "codemirror_mode": {
    "name": "ipython",
    "version": 3
   },
   "file_extension": ".py",
   "mimetype": "text/x-python",
   "name": "python",
   "nbconvert_exporter": "python",
   "pygments_lexer": "ipython3",
   "version": "3.6.8"
  }
 },
 "nbformat": 4,
 "nbformat_minor": 4
}
