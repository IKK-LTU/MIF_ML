{
 "cells": [
  {
   "cell_type": "code",
   "execution_count": 1,
   "metadata": {},
   "outputs": [],
   "source": [
    "#Ignas Kunickas MMT 4k.\n"
   ]
  },
  {
   "cell_type": "code",
   "execution_count": 20,
   "metadata": {},
   "outputs": [],
   "source": [
    "#DNN"
   ]
  },
  {
   "cell_type": "code",
   "execution_count": 2,
   "metadata": {},
   "outputs": [],
   "source": [
    "import os\n",
    "import time\n",
    "from datetime import datetime\n",
    "import numpy as np\n",
    "import pandas as pd\n",
    "from tensorflow.keras.callbacks import TensorBoard"
   ]
  },
  {
   "cell_type": "code",
   "execution_count": 3,
   "metadata": {},
   "outputs": [],
   "source": [
    "# %load_ext tensorboard"
   ]
  },
  {
   "cell_type": "code",
   "execution_count": 3,
   "metadata": {},
   "outputs": [],
   "source": [
    "import tensorflow.keras as keras\n",
    "from tensorflow.keras.layers import Dense, Input, Flatten, Conv2D, BatchNormalization, Activation, Dropout, MaxPooling2D\n",
    "from tensorflow.keras.models import Sequential\n",
    "from tensorflow.keras.optimizers import Adam, SGD"
   ]
  },
  {
   "cell_type": "code",
   "execution_count": 4,
   "metadata": {},
   "outputs": [
    {
     "name": "stdout",
     "output_type": "stream",
     "text": [
      "/notebooks\n"
     ]
    },
    {
     "data": {
      "text/plain": [
       "['storage',\n",
       " 'datasets',\n",
       " 'Untitled.ipynb',\n",
       " '.ipynb_checkpoints',\n",
       " 'Untitled Folder',\n",
       " 'Flatland_IK.ipynb',\n",
       " 'flatland_train.data',\n",
       " 'model.CNN.h5',\n",
       " 'logs',\n",
       " 'core']"
      ]
     },
     "execution_count": 4,
     "metadata": {},
     "output_type": "execute_result"
    }
   ],
   "source": [
    "cwd = os.getcwd() #parodo kas content folderyje\n",
    "print(cwd)\n",
    "os.listdir(os.getcwd())"
   ]
  },
  {
   "cell_type": "code",
   "execution_count": 5,
   "metadata": {},
   "outputs": [],
   "source": [
    "import gzip\n",
    "import pickle\n",
    "\n",
    "X,y = pickle.load(gzip.open('flatland_train.data','rb'))\n",
    "y[y != 0] -= 2\n",
    "X = X.reshape(X.shape[0], 50, 50, 1) / 255.0\n",
    "#X = X / 255 #su DNN\n"
   ]
  },
  {
   "cell_type": "code",
   "execution_count": 8,
   "metadata": {},
   "outputs": [
    {
     "name": "stdout",
     "output_type": "stream",
     "text": [
      "Model: \"sequential_1\"\n",
      "_________________________________________________________________\n",
      "Layer (type)                 Output Shape              Param #   \n",
      "=================================================================\n",
      "conv2d_2 (Conv2D)            (None, 48, 48, 32)        320       \n",
      "_________________________________________________________________\n",
      "conv2d_3 (Conv2D)            (None, 46, 46, 32)        9248      \n",
      "_________________________________________________________________\n",
      "flatten_1 (Flatten)          (None, 67712)             0         \n",
      "_________________________________________________________________\n",
      "dense_2 (Dense)              (None, 100)               6771300   \n",
      "_________________________________________________________________\n",
      "dense_3 (Dense)              (None, 5)                 505       \n",
      "=================================================================\n",
      "Total params: 6,781,373\n",
      "Trainable params: 6,781,373\n",
      "Non-trainable params: 0\n",
      "_________________________________________________________________\n"
     ]
    }
   ],
   "source": [
    "#PVZ modelio, nukopinu nuo destytojo\n",
    "NAME = \"DNN\".format(int(time.time()))\n",
    "#print(NAME)\n",
    "model = keras.models.Sequential()\n",
    "\n",
    "model.add(keras.layers.Conv2D(32, kernel_size=(3, 3), activation='relu', input_shape=[50, 50, 1]))  #cia yra is CNN paskaitos, atkreipk demesi, vietoj 28 yra 50\n",
    "model.add(keras.layers.Conv2D(32, kernel_size=(3, 3), activation='relu'))                           # nes paveiksliuko dydis 50x50 \n",
    "model.add(Flatten()) \n",
    "\n",
    "model.add(keras.layers.Dense(100, activation=\"relu\"))\n",
    "model.add(keras.layers.Dense(5, activation=\"softmax\")) #cia 5, nes turim 5 figuros\n",
    "\n",
    "model.compile(loss=\"sparse_categorical_crossentropy\",\n",
    "              optimizer=\"adam\",\n",
    "              metrics=[\"accuracy\"])\n",
    "model.summary()\n",
    "\n"
   ]
  },
  {
   "cell_type": "code",
   "execution_count": null,
   "metadata": {},
   "outputs": [],
   "source": [
    "\n"
   ]
  },
  {
   "cell_type": "code",
   "execution_count": 13,
   "metadata": {},
   "outputs": [
    {
     "name": "stdout",
     "output_type": "stream",
     "text": [
      "Epoch 1/10\n",
      "282/282 [==============================] - 20s 73ms/step - loss: 0.1340 - accuracy: 0.9608 - val_loss: 0.4660 - val_accuracy: 0.8400\n",
      "Epoch 2/10\n",
      "282/282 [==============================] - 21s 76ms/step - loss: 0.0226 - accuracy: 0.9934 - val_loss: 0.5941 - val_accuracy: 0.8300\n",
      "Epoch 3/10\n",
      "282/282 [==============================] - 19s 66ms/step - loss: 0.0059 - accuracy: 0.9991 - val_loss: 0.6472 - val_accuracy: 0.8420\n",
      "Epoch 4/10\n",
      "282/282 [==============================] - 19s 66ms/step - loss: 0.0015 - accuracy: 0.9999 - val_loss: 0.6671 - val_accuracy: 0.8420\n",
      "Epoch 5/10\n",
      "282/282 [==============================] - 19s 66ms/step - loss: 4.1253e-04 - accuracy: 1.0000 - val_loss: 0.7002 - val_accuracy: 0.8420\n",
      "Epoch 6/10\n",
      "282/282 [==============================] - 21s 73ms/step - loss: 2.6899e-04 - accuracy: 1.0000 - val_loss: 0.7267 - val_accuracy: 0.8420\n",
      "Epoch 7/10\n",
      "282/282 [==============================] - 19s 66ms/step - loss: 1.9452e-04 - accuracy: 1.0000 - val_loss: 0.7505 - val_accuracy: 0.8390\n",
      "Epoch 8/10\n",
      "282/282 [==============================] - 18s 65ms/step - loss: 1.4776e-04 - accuracy: 1.0000 - val_loss: 0.7747 - val_accuracy: 0.8400\n",
      "Epoch 9/10\n",
      "282/282 [==============================] - 19s 66ms/step - loss: 1.1545e-04 - accuracy: 1.0000 - val_loss: 0.7915 - val_accuracy: 0.8390\n",
      "Epoch 10/10\n",
      "282/282 [==============================] - 19s 66ms/step - loss: 9.1653e-05 - accuracy: 1.0000 - val_loss: 0.8091 - val_accuracy: 0.8390\n"
     ]
    }
   ],
   "source": [
    "tensorboard = TensorBoard(log_dir=\"logs/{}\".format(NAME))\n",
    "loss = model.fit(X, y, epochs=10, validation_split=0.1, callbacks=tensorboard)  #treniruojam"
   ]
  },
  {
   "cell_type": "code",
   "execution_count": 58,
   "metadata": {},
   "outputs": [],
   "source": [
    "model.save('model.CNN.h5') "
   ]
  },
  {
   "cell_type": "code",
   "execution_count": 14,
   "metadata": {},
   "outputs": [
    {
     "data": {
      "text/plain": [
       "<matplotlib.axes._subplots.AxesSubplot at 0x7f4a64365b38>"
      ]
     },
     "execution_count": 14,
     "metadata": {},
     "output_type": "execute_result"
    },
    {
     "data": {
      "image/png": "[encoded data removed]",
      "text/plain": [
       "<Figure size 432x288 with 1 Axes>"
      ]
     },
     "metadata": {
      "needs_background": "light"
     },
     "output_type": "display_data"
    },
    {
     "data": {
      "image/png": "[encoded data removed]",
      "text/plain": [
       "<Figure size 432x288 with 1 Axes>"
      ]
     },
     "metadata": {
      "needs_background": "light"
     },
     "output_type": "display_data"
    }
   ],
   "source": [
    "pd.DataFrame(loss.history)[['accuracy', 'val_accuracy']].plot()\n",
    " # nestabilumas loss kreiveje kaltinit arba learning rate arba pati data seta\n",
    "                            \n",
    "# imant leanring_rate 0.02 matosi bangavima\n",
    "pd.DataFrame(loss.history)[['loss', 'val_loss']].plot() # loss isryskina paklaidas kurios yra treniruojamos"
   ]
  },
  {
   "cell_type": "code",
   "execution_count": 15,
   "metadata": {},
   "outputs": [
    {
     "name": "stdout",
     "output_type": "stream",
     "text": [
      "Accuracy on test set - 98.39%\n"
     ]
    }
   ],
   "source": [
    "#from google.colab import files\n",
    "#files.download('model.h5') \n",
    "pred = model.predict(X).argmax(axis=1)\n",
    "print('Accuracy on test set - {0:.02%}'.format((pred == y).mean()))"
   ]
  },
  {
   "cell_type": "code",
   "execution_count": null,
   "metadata": {},
   "outputs": [],
   "source": [
    "#sita paleidi ir turi rodyt koks tikslumas ant train set'o\n",
    "def evaluate(path, model):\n",
    "    X, y = pickle.load(gzip.open(path, 'rb'))\n",
    "    y[y != 0] -= 2\n",
    "    X = X / 255.\n",
    "    acc = np.mean(model(X).numpy().argmax(axis=1) == y)\n",
    "    return acc\n",
    "\n",
    "model = keras.models.load_model('model.CNN.h5')\n",
    "evaluate('flatland_train.data', model)"
   ]
  },
  {
   "cell_type": "code",
   "execution_count": null,
   "metadata": {},
   "outputs": [],
   "source": [
    "#Adam?"
   ]
  },
  {
   "cell_type": "code",
   "execution_count": null,
   "metadata": {},
   "outputs": [],
   "source": []
  }
 ],
 "metadata": {
  "kernelspec": {
   "display_name": "Python 3",
   "language": "python",
   "name": "python3"
  },
  "language_info": {
   "codemirror_mode": {
    "name": "ipython",
    "version": 3
   },
   "file_extension": ".py",
   "mimetype": "text/x-python",
   "name": "python",
   "nbconvert_exporter": "python",
   "pygments_lexer": "ipython3",
   "version": "3.6.8"
  }
 },
 "nbformat": 4,
 "nbformat_minor": 4
}
